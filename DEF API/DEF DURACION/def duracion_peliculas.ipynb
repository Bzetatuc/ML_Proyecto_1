{
 "cells": [
  {
   "cell_type": "code",
   "execution_count": null,
   "metadata": {},
   "outputs": [],
   "source": [
    "import pandas as pd\n",
    "import numpy as np"
   ]
  },
  {
   "cell_type": "code",
   "execution_count": null,
   "metadata": {},
   "outputs": [],
   "source": [
    "datasets_df = pd.read_csv('/Users/benjaminzelaya/Desktop/ML_Proyecto_Individual_Henry/DEF API/movies_data_final.csv')\n",
    "crew_df = pd.read_csv('/Users/benjaminzelaya/Desktop/ML_Proyecto_Individual_Henry/DEF API/crew.csv')\n",
    "cast_df = pd.read_csv('/Users/benjaminzelaya/Desktop/ML_Proyecto_Individual_Henry/DEF API/cast.csv')\n",
    "movie_genres_df = pd.read_csv('/Users/benjaminzelaya/Desktop/ML_Proyecto_Individual_Henry/DEF API/genres_groupby.csv')\n",
    "ML_data = pd.read_csv('/Users/benjaminzelaya/Desktop/ML_Proyecto_Individual_Henry/DEF API/ML_data.csv')"
   ]
  },
  {
   "cell_type": "code",
   "execution_count": null,
   "metadata": {},
   "outputs": [],
   "source": [
    "ML_data.columns"
   ]
  },
  {
   "cell_type": "code",
   "execution_count": null,
   "metadata": {},
   "outputs": [],
   "source": [
    "datasets_df.columns"
   ]
  },
  {
   "cell_type": "code",
   "execution_count": null,
   "metadata": {},
   "outputs": [],
   "source": [
    "\n",
    "df_timepelicula = pd.DataFrame(datasets_df, columns=['id', 'runtime', 'release_year', 'title'])\n"
   ]
  },
  {
   "cell_type": "code",
   "execution_count": null,
   "metadata": {},
   "outputs": [],
   "source": [
    "df_timepelicula.head()"
   ]
  },
  {
   "cell_type": "code",
   "execution_count": null,
   "metadata": {},
   "outputs": [],
   "source": [
    "# modifico la columna runtime \n",
    "\n",
    "# Convertir la columna \"runtime\" a valores numéricos, incluyendo los valores no finitos\n",
    "df_timepelicula['runtime'] = pd.to_numeric(df_timepelicula['runtime'], errors='coerce')\n",
    "\n",
    "# Eliminar filas con valores no finitos (NaN o inf)\n",
    "df_timepelicula = df_timepelicula.dropna(subset=['runtime'])\n",
    "\n",
    "# Convertir la columna \"runtime\" a tipo entero\n",
    "df_timepelicula['runtime'] = df_timepelicula['runtime'].astype(int)\n"
   ]
  },
  {
   "cell_type": "code",
   "execution_count": null,
   "metadata": {},
   "outputs": [],
   "source": [
    "df_timepelicula.head()\n",
    "\n",
    "# Ahora quedo la columna en int para interpretar la duracion de las peliculas en minutos de duración."
   ]
  },
  {
   "cell_type": "code",
   "execution_count": null,
   "metadata": {},
   "outputs": [],
   "source": [
    "# Guardar el DataFrame en un archivo CSV\n",
    "duracion = 'df_duracion_Def.csv'\n",
    "df_timepelicula.to_csv(duracion, index=False)\n",
    "\n",
    "print(f\"El DataFrame ha sido guardado en el archivo '{duracion}'\")"
   ]
  },
  {
   "cell_type": "code",
   "execution_count": null,
   "metadata": {},
   "outputs": [],
   "source": [
    "# Lista de peliculas para indicar en la función\n",
    "df_timepelicula['title'].unique().tolist()\n"
   ]
  },
  {
   "cell_type": "code",
   "execution_count": null,
   "metadata": {},
   "outputs": [],
   "source": [
    "def peliculas_duracion(pelicula: str):\n",
    "    pelicula = pelicula.lower()\n",
    "\n",
    "    # DataFrame para obtener las filas correspondientes a la película consultada\n",
    "    pelicula_info = datasets_df[datasets_df['title'].str.lower() == pelicula]\n",
    "\n",
    "    # Verificaremos si se encontró la película\n",
    "    if pelicula_info.empty:\n",
    "        raise HTTPException(status_code=404, detail=f\"La película '{pelicula.capitalize()}' no fue encontrada.\")\n",
    "\n",
    "    # duración y año de la película consultada\n",
    "    duracion = pelicula_info.iloc[0]['runtime'].astype(int)\n",
    "    año = pelicula_info.iloc[0]['release_year']\n",
    "\n",
    "    mensaje = f\"La pelicula {pelicula} tiene una duración de {duracion} minutos, del Año {año}\"\n",
    "    return mensaje\n"
   ]
  },
  {
   "cell_type": "code",
   "execution_count": null,
   "metadata": {},
   "outputs": [],
   "source": [
    "# Ejemplo de uso de la función\n",
    "\n",
    "pelicula = 'Toy Story'\n",
    "resultado = peliculas_duracion(pelicula)\n",
    "print(resultado)"
   ]
  },
  {
   "cell_type": "code",
   "execution_count": null,
   "metadata": {},
   "outputs": [],
   "source": [
    "# Ejemplo de uso de la función\n",
    "\n",
    "pelicula = 'Dracula: Dead and Loving It'\n",
    "resultado = peliculas_duracion(pelicula)\n",
    "print(resultado)"
   ]
  }
 ],
 "metadata": {
  "kernelspec": {
   "display_name": "Python 3",
   "language": "python",
   "name": "python3"
  },
  "language_info": {
   "codemirror_mode": {
    "name": "ipython",
    "version": 3
   },
   "file_extension": ".py",
   "mimetype": "text/x-python",
   "name": "python",
   "nbconvert_exporter": "python",
   "pygments_lexer": "ipython3",
   "version": "3.10.5"
  },
  "orig_nbformat": 4
 },
 "nbformat": 4,
 "nbformat_minor": 2
}
