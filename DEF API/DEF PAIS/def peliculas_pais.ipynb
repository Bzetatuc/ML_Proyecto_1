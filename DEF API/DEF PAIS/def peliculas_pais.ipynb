{
 "cells": [
  {
   "cell_type": "code",
   "execution_count": 1,
   "metadata": {},
   "outputs": [],
   "source": [
    "\n",
    "import pandas as pd\n",
    "import numpy as np"
   ]
  },
  {
   "cell_type": "code",
   "execution_count": 2,
   "metadata": {},
   "outputs": [],
   "source": [
    "datasets_df = pd.read_csv('/Users/benjaminzelaya/Desktop/ML_Proyecto_Individual_Henry/DEF API/movies_data_final.csv')\n",
    "crew_df = pd.read_csv('/Users/benjaminzelaya/Desktop/ML_Proyecto_Individual_Henry/DEF API/crew.csv')\n",
    "cast_df = pd.read_csv('/Users/benjaminzelaya/Desktop/ML_Proyecto_Individual_Henry/DEF API/cast.csv')\n",
    "movie_genres_df = pd.read_csv('/Users/benjaminzelaya/Desktop/ML_Proyecto_Individual_Henry/DEF API/genres_groupby.csv')\n",
    "ML_data = pd.read_csv('/Users/benjaminzelaya/Desktop/ML_Proyecto_Individual_Henry/DEF API/ML_data.csv')"
   ]
  },
  {
   "cell_type": "code",
   "execution_count": 3,
   "metadata": {},
   "outputs": [
    {
     "data": {
      "text/plain": [
       "Index(['id', 'title', 'genero', 'popularity'], dtype='object')"
      ]
     },
     "execution_count": 3,
     "metadata": {},
     "output_type": "execute_result"
    }
   ],
   "source": [
    "ML_data.columns"
   ]
  },
  {
   "cell_type": "code",
   "execution_count": 4,
   "metadata": {},
   "outputs": [
    {
     "data": {
      "text/plain": [
       "Index(['id', 'original_language', 'overview', 'popularity', 'release_date',\n",
       "       'runtime', 'status', 'tagline', 'title', 'vote_average', 'vote_count',\n",
       "       'id_bellongs_to_collection', 'name_bellongs_to_collection',\n",
       "       'poster_bellongs_to_collection', 'backdrop_bellongs_to_collection',\n",
       "       'Cod_languages', 'name_languages', 'name_genres', 'id_genres',\n",
       "       'name_companies', 'id_companies', 'Cod_countries', 'country_name',\n",
       "       'budget', 'revenue', 'release_year', 'return'],\n",
       "      dtype='object')"
      ]
     },
     "execution_count": 4,
     "metadata": {},
     "output_type": "execute_result"
    }
   ],
   "source": [
    "datasets_df.columns"
   ]
  },
  {
   "cell_type": "code",
   "execution_count": 5,
   "metadata": {},
   "outputs": [],
   "source": [
    "# Armo el data que usare para la funcion:\n",
    "\n",
    "df_Paises = pd.DataFrame(datasets_df, columns=['id', 'title','country_name'])"
   ]
  },
  {
   "cell_type": "code",
   "execution_count": 6,
   "metadata": {},
   "outputs": [
    {
     "data": {
      "text/html": [
       "<div>\n",
       "<style scoped>\n",
       "    .dataframe tbody tr th:only-of-type {\n",
       "        vertical-align: middle;\n",
       "    }\n",
       "\n",
       "    .dataframe tbody tr th {\n",
       "        vertical-align: top;\n",
       "    }\n",
       "\n",
       "    .dataframe thead th {\n",
       "        text-align: right;\n",
       "    }\n",
       "</style>\n",
       "<table border=\"1\" class=\"dataframe\">\n",
       "  <thead>\n",
       "    <tr style=\"text-align: right;\">\n",
       "      <th></th>\n",
       "      <th>id</th>\n",
       "      <th>title</th>\n",
       "      <th>country_name</th>\n",
       "    </tr>\n",
       "  </thead>\n",
       "  <tbody>\n",
       "    <tr>\n",
       "      <th>0</th>\n",
       "      <td>862</td>\n",
       "      <td>Toy Story</td>\n",
       "      <td>United States of America</td>\n",
       "    </tr>\n",
       "    <tr>\n",
       "      <th>1</th>\n",
       "      <td>8844</td>\n",
       "      <td>Jumanji</td>\n",
       "      <td>United States of America</td>\n",
       "    </tr>\n",
       "    <tr>\n",
       "      <th>2</th>\n",
       "      <td>15602</td>\n",
       "      <td>Grumpier Old Men</td>\n",
       "      <td>United States of America</td>\n",
       "    </tr>\n",
       "    <tr>\n",
       "      <th>3</th>\n",
       "      <td>31357</td>\n",
       "      <td>Waiting to Exhale</td>\n",
       "      <td>United States of America</td>\n",
       "    </tr>\n",
       "    <tr>\n",
       "      <th>4</th>\n",
       "      <td>11862</td>\n",
       "      <td>Father of the Bride Part II</td>\n",
       "      <td>United States of America</td>\n",
       "    </tr>\n",
       "  </tbody>\n",
       "</table>\n",
       "</div>"
      ],
      "text/plain": [
       "      id                        title              country_name\n",
       "0    862                    Toy Story  United States of America\n",
       "1   8844                      Jumanji  United States of America\n",
       "2  15602             Grumpier Old Men  United States of America\n",
       "3  31357            Waiting to Exhale  United States of America\n",
       "4  11862  Father of the Bride Part II  United States of America"
      ]
     },
     "execution_count": 6,
     "metadata": {},
     "output_type": "execute_result"
    }
   ],
   "source": [
    "df_Paises.head(5)"
   ]
  },
  {
   "cell_type": "code",
   "execution_count": 7,
   "metadata": {},
   "outputs": [
    {
     "name": "stdout",
     "output_type": "stream",
     "text": [
      "El DataFrame ha sido guardado en el archivo 'df_paises_Def.csv'\n"
     ]
    }
   ],
   "source": [
    "# Guardar el DataFrame en un archivo CSV\n",
    "paises = 'df_paises_Def.csv'\n",
    "df_Paises.to_csv(paises, index=False)\n",
    "\n",
    "print(f\"El DataFrame ha sido guardado en el archivo '{paises}'\")"
   ]
  },
  {
   "cell_type": "code",
   "execution_count": 15,
   "metadata": {},
   "outputs": [],
   "source": [
    "def peliculas_pais(Pais: str):\n",
    "    pais_lower = Pais.lower()\n",
    "\n",
    "    # Llenare los valores NaN que tiene la columna con una cadena vacía\n",
    "    df_Paises['country_name'] = df_Paises['country_name'].fillna('')\n",
    "\n",
    "    # filas correspondientes al país\n",
    "    peliculas_pais = df_Paises[df_Paises['country_name'].str.lower().str.contains(pais_lower)]\n",
    "\n",
    "    # cantidad de películas producidas en el país\n",
    "    cantidad_peliculas = len(peliculas_pais)\n",
    "\n",
    "    resultado_paises = f\" En {Pais} se produjeron {cantidad_peliculas} películas\"\n",
    "    return resultado_paises\n",
    "\n"
   ]
  },
  {
   "cell_type": "code",
   "execution_count": 16,
   "metadata": {},
   "outputs": [
    {
     "data": {
      "text/plain": [
       "['United States of America',\n",
       " 'Germany',\n",
       " 'United Kingdom',\n",
       " 'France',\n",
       " 'Italy',\n",
       " 'Spain',\n",
       " 'China',\n",
       " 'Australia',\n",
       " 'South Africa',\n",
       " 'Canada',\n",
       " '',\n",
       " 'Switzerland',\n",
       " 'Belgium',\n",
       " 'Japan',\n",
       " 'Iran',\n",
       " 'Netherlands',\n",
       " 'Hong Kong',\n",
       " 'Tunisia',\n",
       " 'Ireland',\n",
       " 'Dominican Republic',\n",
       " 'Croatia',\n",
       " 'Russia',\n",
       " 'Macedonia',\n",
       " 'Austria',\n",
       " 'Taiwan',\n",
       " 'New Zealand',\n",
       " 'Mexico',\n",
       " 'Poland',\n",
       " 'Peru',\n",
       " 'Cuba',\n",
       " 'Liechtenstein',\n",
       " 'Denmark',\n",
       " 'Portugal',\n",
       " 'Finland',\n",
       " 'Sweden',\n",
       " 'Argentina',\n",
       " 'Iceland',\n",
       " 'South Korea',\n",
       " 'Serbia',\n",
       " 'Hungary',\n",
       " 'Czech Republic',\n",
       " 'India',\n",
       " 'Brazil',\n",
       " 'Greece',\n",
       " 'Congo',\n",
       " 'Senegal',\n",
       " 'Burkina Faso',\n",
       " 'Romania',\n",
       " 'Philippines',\n",
       " 'Vietnam',\n",
       " 'Trinidad and Tobago',\n",
       " 'Bulgaria',\n",
       " 'Chile',\n",
       " 'Norway',\n",
       " 'Kazakhstan',\n",
       " 'Algeria',\n",
       " 'Luxembourg',\n",
       " 'Georgia',\n",
       " 'Ukraine',\n",
       " 'Botswana',\n",
       " 'Aruba',\n",
       " 'Israel',\n",
       " 'Turkey',\n",
       " 'Ecuador',\n",
       " 'Lebanon',\n",
       " 'Morocco',\n",
       " 'Bosnia and Herzegovina',\n",
       " 'Bahamas',\n",
       " 'Malaysia',\n",
       " 'Bhutan',\n",
       " 'Jamaica',\n",
       " 'Pakistan',\n",
       " 'Nepal',\n",
       " \"Cote D'Ivoire\",\n",
       " 'Thailand',\n",
       " 'Namibia',\n",
       " 'Cameroon',\n",
       " 'Colombia',\n",
       " 'Czechoslovakia',\n",
       " 'Uruguay',\n",
       " 'Slovenia',\n",
       " 'Libyan Arab Jamahiriya',\n",
       " 'Puerto Rico',\n",
       " 'Soviet Union',\n",
       " 'East Germany',\n",
       " 'Singapore',\n",
       " 'Afghanistan',\n",
       " 'Malta',\n",
       " 'Panama',\n",
       " 'Egypt',\n",
       " 'Zimbabwe',\n",
       " 'Tajikistan',\n",
       " 'Uzbekistan',\n",
       " 'Costa Rica',\n",
       " 'Kuwait',\n",
       " 'Martinique',\n",
       " 'Ghana',\n",
       " 'Armenia',\n",
       " 'Indonesia',\n",
       " 'Mongolia',\n",
       " 'Bolivia',\n",
       " 'Monaco',\n",
       " 'Iraq',\n",
       " 'Slovakia',\n",
       " 'Serbia and Montenegro',\n",
       " 'Venezuela',\n",
       " 'Lithuania',\n",
       " 'Rwanda',\n",
       " 'Palestinian Territory',\n",
       " 'Chad',\n",
       " 'Paraguay',\n",
       " 'Qatar',\n",
       " 'Estonia',\n",
       " 'Macao',\n",
       " 'Mali',\n",
       " 'United States Minor Outlying Islands',\n",
       " 'Latvia',\n",
       " 'United Arab Emirates',\n",
       " 'Azerbaijan',\n",
       " 'Cayman Islands',\n",
       " 'Nicaragua',\n",
       " 'Liberia',\n",
       " 'Yugoslavia',\n",
       " 'Montenegro',\n",
       " 'Angola',\n",
       " 'Belarus',\n",
       " 'Cambodia',\n",
       " 'Mauritania',\n",
       " 'Cyprus',\n",
       " 'Bangladesh',\n",
       " 'Syrian Arab Republic',\n",
       " 'Kyrgyz Republic',\n",
       " 'Albania',\n",
       " 'Tanzania',\n",
       " 'North Korea',\n",
       " 'Kenya',\n",
       " 'Jordan',\n",
       " 'Uganda',\n",
       " 'Saudi Arabia',\n",
       " 'Somalia',\n",
       " 'Guatemala',\n",
       " 'Madagascar',\n",
       " 'Ethiopia',\n",
       " 'Sri Lanka',\n",
       " 'Papua New Guinea',\n",
       " 'Nigeria',\n",
       " \"Lao People's Democratic Republic\",\n",
       " 'French Polynesia',\n",
       " 'Netherlands Antilles',\n",
       " 'Myanmar',\n",
       " 'Bermuda',\n",
       " 'El Salvador',\n",
       " 'French Southern Territories',\n",
       " 'Samoa',\n",
       " 'Moldova',\n",
       " 'Barbados',\n",
       " 'Antarctica',\n",
       " 'Gibraltar',\n",
       " 'Brunei Darussalam',\n",
       " 'Honduras',\n",
       " 'Guinea']"
      ]
     },
     "execution_count": 16,
     "metadata": {},
     "output_type": "execute_result"
    }
   ],
   "source": [
    "# Paises\n",
    "\n",
    "df_Paises['country_name'].unique().tolist()"
   ]
  },
  {
   "cell_type": "code",
   "execution_count": 19,
   "metadata": {},
   "outputs": [
    {
     "name": "stdout",
     "output_type": "stream",
     "text": [
      " En Spain se produjeron 964 películas\n"
     ]
    }
   ],
   "source": [
    "# EJEMPLO DE USO DE LA DEF\n",
    "\n",
    "pais_nombre = 'Argentina'\n",
    "resultado = peliculas_pais(pais_nombre)\n",
    "print(resultado)"
   ]
  },
  {
   "cell_type": "code",
   "execution_count": 20,
   "metadata": {},
   "outputs": [
    {
     "name": "stdout",
     "output_type": "stream",
     "text": [
      " En Spain se produjeron 964 películas\n"
     ]
    }
   ],
   "source": [
    "# EJEMPLO DE USO DE LA DEF\n",
    "\n",
    "pais_nombre = 'Spain'\n",
    "resultado = peliculas_pais(pais_nombre)\n",
    "print(resultado)"
   ]
  }
 ],
 "metadata": {
  "kernelspec": {
   "display_name": "Python 3",
   "language": "python",
   "name": "python3"
  },
  "language_info": {
   "codemirror_mode": {
    "name": "ipython",
    "version": 3
   },
   "file_extension": ".py",
   "mimetype": "text/x-python",
   "name": "python",
   "nbconvert_exporter": "python",
   "pygments_lexer": "ipython3",
   "version": "3.10.5"
  },
  "orig_nbformat": 4
 },
 "nbformat": 4,
 "nbformat_minor": 2
}
