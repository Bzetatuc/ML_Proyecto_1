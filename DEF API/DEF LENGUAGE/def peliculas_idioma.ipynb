{
 "cells": [
  {
   "cell_type": "code",
   "execution_count": 1,
   "metadata": {},
   "outputs": [],
   "source": [
    "\n",
    "import pandas as pd\n",
    "import numpy as np"
   ]
  },
  {
   "cell_type": "code",
   "execution_count": 2,
   "metadata": {},
   "outputs": [],
   "source": [
    "datasets_df = pd.read_csv('/Users/benjaminzelaya/Desktop/ML_Proyecto_Individual_Henry/DEF API/movies_data_final.csv')\n",
    "crew_df = pd.read_csv('/Users/benjaminzelaya/Desktop/ML_Proyecto_Individual_Henry/DEF API/crew.csv')\n",
    "cast_df = pd.read_csv('/Users/benjaminzelaya/Desktop/ML_Proyecto_Individual_Henry/DEF API/cast.csv')\n",
    "movie_genres_df = pd.read_csv('/Users/benjaminzelaya/Desktop/ML_Proyecto_Individual_Henry/DEF API/genres_groupby.csv')\n",
    "ML_data = pd.read_csv('/Users/benjaminzelaya/Desktop/ML_Proyecto_Individual_Henry/DEF API/ML_data.csv')\n"
   ]
  },
  {
   "cell_type": "code",
   "execution_count": 3,
   "metadata": {},
   "outputs": [
    {
     "data": {
      "text/plain": [
       "Index(['id', 'title', 'genero', 'popularity'], dtype='object')"
      ]
     },
     "execution_count": 3,
     "metadata": {},
     "output_type": "execute_result"
    }
   ],
   "source": [
    "ML_data.columns\n"
   ]
  },
  {
   "cell_type": "code",
   "execution_count": 4,
   "metadata": {},
   "outputs": [
    {
     "data": {
      "text/plain": [
       "Index(['id', 'original_language', 'overview', 'popularity', 'release_date',\n",
       "       'runtime', 'status', 'tagline', 'title', 'vote_average', 'vote_count',\n",
       "       'id_bellongs_to_collection', 'name_bellongs_to_collection',\n",
       "       'poster_bellongs_to_collection', 'backdrop_bellongs_to_collection',\n",
       "       'Cod_languages', 'name_languages', 'name_genres', 'id_genres',\n",
       "       'name_companies', 'id_companies', 'Cod_countries', 'country_name',\n",
       "       'budget', 'revenue', 'release_year', 'return'],\n",
       "      dtype='object')"
      ]
     },
     "execution_count": 4,
     "metadata": {},
     "output_type": "execute_result"
    }
   ],
   "source": [
    "datasets_df.columns"
   ]
  },
  {
   "cell_type": "code",
   "execution_count": 5,
   "metadata": {},
   "outputs": [],
   "source": [
    "# máscara de filtro para seleccionar las filas donde \"status\" es \"Released\"\n",
    "mask = datasets_df['status'] == 'Released'\n",
    "\n",
    "# Filtrar el DataFrame para incluir solo las filas donde \"status\" es \"Released\"\n",
    "df_Languages = datasets_df.loc[mask, ['id', 'original_language', 'title']]\n",
    "\n"
   ]
  },
  {
   "cell_type": "code",
   "execution_count": 6,
   "metadata": {},
   "outputs": [
    {
     "data": {
      "text/html": [
       "<div>\n",
       "<style scoped>\n",
       "    .dataframe tbody tr th:only-of-type {\n",
       "        vertical-align: middle;\n",
       "    }\n",
       "\n",
       "    .dataframe tbody tr th {\n",
       "        vertical-align: top;\n",
       "    }\n",
       "\n",
       "    .dataframe thead th {\n",
       "        text-align: right;\n",
       "    }\n",
       "</style>\n",
       "<table border=\"1\" class=\"dataframe\">\n",
       "  <thead>\n",
       "    <tr style=\"text-align: right;\">\n",
       "      <th></th>\n",
       "      <th>id</th>\n",
       "      <th>original_language</th>\n",
       "      <th>title</th>\n",
       "    </tr>\n",
       "  </thead>\n",
       "  <tbody>\n",
       "    <tr>\n",
       "      <th>0</th>\n",
       "      <td>862</td>\n",
       "      <td>en</td>\n",
       "      <td>Toy Story</td>\n",
       "    </tr>\n",
       "    <tr>\n",
       "      <th>1</th>\n",
       "      <td>8844</td>\n",
       "      <td>en</td>\n",
       "      <td>Jumanji</td>\n",
       "    </tr>\n",
       "    <tr>\n",
       "      <th>2</th>\n",
       "      <td>15602</td>\n",
       "      <td>en</td>\n",
       "      <td>Grumpier Old Men</td>\n",
       "    </tr>\n",
       "    <tr>\n",
       "      <th>3</th>\n",
       "      <td>31357</td>\n",
       "      <td>en</td>\n",
       "      <td>Waiting to Exhale</td>\n",
       "    </tr>\n",
       "    <tr>\n",
       "      <th>4</th>\n",
       "      <td>11862</td>\n",
       "      <td>en</td>\n",
       "      <td>Father of the Bride Part II</td>\n",
       "    </tr>\n",
       "    <tr>\n",
       "      <th>5</th>\n",
       "      <td>949</td>\n",
       "      <td>en</td>\n",
       "      <td>Heat</td>\n",
       "    </tr>\n",
       "    <tr>\n",
       "      <th>6</th>\n",
       "      <td>11860</td>\n",
       "      <td>en</td>\n",
       "      <td>Sabrina</td>\n",
       "    </tr>\n",
       "    <tr>\n",
       "      <th>7</th>\n",
       "      <td>11860</td>\n",
       "      <td>en</td>\n",
       "      <td>Sabrina</td>\n",
       "    </tr>\n",
       "    <tr>\n",
       "      <th>8</th>\n",
       "      <td>45325</td>\n",
       "      <td>en</td>\n",
       "      <td>Tom and Huck</td>\n",
       "    </tr>\n",
       "    <tr>\n",
       "      <th>9</th>\n",
       "      <td>9091</td>\n",
       "      <td>en</td>\n",
       "      <td>Sudden Death</td>\n",
       "    </tr>\n",
       "  </tbody>\n",
       "</table>\n",
       "</div>"
      ],
      "text/plain": [
       "      id original_language                        title\n",
       "0    862                en                    Toy Story\n",
       "1   8844                en                      Jumanji\n",
       "2  15602                en             Grumpier Old Men\n",
       "3  31357                en            Waiting to Exhale\n",
       "4  11862                en  Father of the Bride Part II\n",
       "5    949                en                         Heat\n",
       "6  11860                en                      Sabrina\n",
       "7  11860                en                      Sabrina\n",
       "8  45325                en                 Tom and Huck\n",
       "9   9091                en                 Sudden Death"
      ]
     },
     "execution_count": 6,
     "metadata": {},
     "output_type": "execute_result"
    }
   ],
   "source": [
    "df_Languages.head(10)"
   ]
  },
  {
   "cell_type": "code",
   "execution_count": 7,
   "metadata": {},
   "outputs": [
    {
     "name": "stdout",
     "output_type": "stream",
     "text": [
      "El DataFrame ha sido guardado en el archivo 'df_Languages_Def.csv'\n"
     ]
    }
   ],
   "source": [
    "# Guardar el DataFrame en un archivo CSV\n",
    "Language = 'df_Languages_Def.csv'\n",
    "df_Languages.to_csv(Language, index=False)\n",
    "\n",
    "print(f\"El DataFrame ha sido guardado en el archivo '{Language}'\")"
   ]
  },
  {
   "cell_type": "code",
   "execution_count": 8,
   "metadata": {},
   "outputs": [],
   "source": [
    "def cantidad_peliculas_idioma(idioma: str):\n",
    "    idioma = idioma.lower()\n",
    "\n",
    "    # Filtrar el DataFrame para obtener las filas correspondientes al idioma consultado\n",
    "    peliculas_idioma = df_Languages[df_Languages['original_language'].str.lower() == idioma]\n",
    "\n",
    "    # Obtener la cantidad de películas producidas en el idioma consultado\n",
    "    cantidad_peliculas = len(peliculas_idioma)\n",
    "\n",
    "    mensaje = f\"La cantidad de películas producidas en el idioma {idioma.capitalize()} es: {cantidad_peliculas}\"\n",
    "    return mensaje"
   ]
  },
  {
   "cell_type": "code",
   "execution_count": 9,
   "metadata": {},
   "outputs": [
    {
     "data": {
      "text/plain": [
       "array(['en', 'fr', 'zh', 'it', 'fa', 'nl', 'de', 'cn', 'ar', 'es', 'ru',\n",
       "       'sv', 'ja', 'ko', 'sr', 'bn', 'he', 'pt', 'wo', 'ro', 'hu', 'cy',\n",
       "       'vi', 'cs', 'da', 'no', 'nb', 'pl', 'el', 'sh', 'xx', 'mk', 'bo',\n",
       "       'ca', 'fi', 'th', 'sk', 'bs', 'hi', 'tr', 'is', 'ps', 'ab', 'eo',\n",
       "       'ka', 'mn', 'bm', 'zu', 'uk', 'af', 'la', 'et', 'ku', 'fy', 'lv',\n",
       "       'ta', 'sl', 'tl', 'ur', 'rw', 'id', 'bg', 'mr', 'lt', 'kk', 'ms',\n",
       "       'sq', nan, 'qu', 'te', 'am', 'jv', 'tg', 'ml', 'hr', 'lo', 'ay',\n",
       "       'kn', 'eu', 'ne', 'pa', 'ky', 'gl', 'uz', 'sm', 'mt', 'hy', 'iu',\n",
       "       'lb', 'si'], dtype=object)"
      ]
     },
     "execution_count": 9,
     "metadata": {},
     "output_type": "execute_result"
    }
   ],
   "source": [
    "# Lenguages\n",
    "\n",
    "df_Languages['original_language'].unique().tolist()"
   ]
  },
  {
   "cell_type": "code",
   "execution_count": 10,
   "metadata": {},
   "outputs": [
    {
     "name": "stdout",
     "output_type": "stream",
     "text": [
      "Películas recomendadas para 'fr':\n",
      "La cantidad de películas producidas en el idioma Fr es: 3408\n"
     ]
    }
   ],
   "source": [
    "# EJEMPLO DE USO DE LA DEF\n",
    "\n",
    "lenguaje = 'fr' #fr Frances\n",
    "resultado = cantidad_peliculas_idioma(lenguaje)  \n",
    "print(f\"Películas recomendadas para '{lenguaje}':\")\n",
    "print(resultado)"
   ]
  },
  {
   "cell_type": "code",
   "execution_count": 12,
   "metadata": {},
   "outputs": [
    {
     "name": "stdout",
     "output_type": "stream",
     "text": [
      "La cantidad de películas producidas en el idioma Zh es: 584\n"
     ]
    }
   ],
   "source": [
    "# EJEMPLO DE USO DE LA DEF\n",
    "\n",
    "lenguaje = 'zh' #fr Frances\n",
    "resultado = cantidad_peliculas_idioma(lenguaje)  \n",
    "print(resultado)"
   ]
  }
 ],
 "metadata": {
  "kernelspec": {
   "display_name": "Python 3",
   "language": "python",
   "name": "python3"
  },
  "language_info": {
   "codemirror_mode": {
    "name": "ipython",
    "version": 3
   },
   "file_extension": ".py",
   "mimetype": "text/x-python",
   "name": "python",
   "nbconvert_exporter": "python",
   "pygments_lexer": "ipython3",
   "version": "3.10.5"
  },
  "orig_nbformat": 4
 },
 "nbformat": 4,
 "nbformat_minor": 2
}
