{
 "cells": [
  {
   "cell_type": "code",
   "execution_count": 1,
   "metadata": {},
   "outputs": [],
   "source": [
    "import pandas as pd"
   ]
  },
  {
   "cell_type": "code",
   "execution_count": 2,
   "metadata": {},
   "outputs": [
    {
     "name": "stderr",
     "output_type": "stream",
     "text": [
      "/var/folders/9h/wktndydj5rg6pj7yfx6ws1gm0000gn/T/ipykernel_2958/829602107.py:1: DtypeWarning: Columns (0,1,4) have mixed types. Specify dtype option on import or set low_memory=False.\n",
      "  df = pd.read_csv('/Users/benjaminzelaya/Desktop/ML_Proyecto_Individual_Henry/Sist. Recomendacion de Peliculas - Machine Learning/df_ML_SistRecomendacion.csv')\n"
     ]
    }
   ],
   "source": [
    "df = pd.read_csv('/Users/benjaminzelaya/Desktop/ML_Proyecto_Individual_Henry/Sist. Recomendacion de Peliculas - Machine Learning/df_ML_SistRecomendacion.csv')\n"
   ]
  },
  {
   "cell_type": "code",
   "execution_count": 17,
   "metadata": {},
   "outputs": [
    {
     "name": "stdout",
     "output_type": "stream",
     "text": [
      "El DataFrame han sido guardadas en el archivo 'df_sistema_recomendacion_artistas.csv'\n"
     ]
    }
   ],
   "source": [
    "\n",
    "\n",
    "# Obtener las primeras 1000 filas del DataFrame\n",
    "df_sistema_recomendacion_artista = df.head(1000)\n",
    "\n",
    "# Definir el nombre del archivo CSV\n",
    "archivo_csv = 'df_sistema_recomendacion_artistas.csv'\n",
    "\n",
    "# Guardar el DataFrame con las primeras 1000 filas en un archivo CSV\n",
    "df_sistema_recomendacion_artista.to_csv(archivo_csv, index=False)\n",
    "\n",
    "print(f\"El DataFrame han sido guardadas en el archivo '{archivo_csv}'\")\n"
   ]
  }
 ],
 "metadata": {
  "kernelspec": {
   "display_name": "Python 3",
   "language": "python",
   "name": "python3"
  },
  "language_info": {
   "codemirror_mode": {
    "name": "ipython",
    "version": 3
   },
   "file_extension": ".py",
   "mimetype": "text/x-python",
   "name": "python",
   "nbconvert_exporter": "python",
   "pygments_lexer": "ipython3",
   "version": "3.11.4"
  },
  "orig_nbformat": 4
 },
 "nbformat": 4,
 "nbformat_minor": 2
}
